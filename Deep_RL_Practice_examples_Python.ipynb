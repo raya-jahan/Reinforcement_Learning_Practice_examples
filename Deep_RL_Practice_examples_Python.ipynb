{
 "cells": [
  {
   "cell_type": "code",
   "execution_count": 4,
   "id": "f7d93737-af9e-4518-b8cf-358e471e98f7",
   "metadata": {},
   "outputs": [
    {
     "name": "stdout",
     "output_type": "stream",
     "text": [
      "21\n"
     ]
    }
   ],
   "source": [
    "# Gradient, y=mx +c\n",
    "def gradient(m, c, x):\n",
    "    y = m * x + c\n",
    "    return y\n",
    "\n",
    "gradient = gradient( 10, 1, 2)\n",
    "print(gradient)\n"
   ]
  },
  {
   "cell_type": "code",
   "execution_count": 5,
   "id": "db8408a3-e2f3-4588-9a5b-ec1192b58979",
   "metadata": {},
   "outputs": [
    {
     "data": {
      "text/plain": [
       "2"
      ]
     },
     "execution_count": 5,
     "metadata": {},
     "output_type": "execute_result"
    }
   ],
   "source": [
    "# action = which position/iteration you are at\n",
    "\n",
    "# Finding the best action i.e maximum reward\n",
    "def best_action(actions):\n",
    "    max_action_value = 0\n",
    "    current_action_position =0\n",
    "    for i in range(len(actions)):\n",
    "        if actions[i] > max_action_value:\n",
    "            max_action_value = actions[i]\n",
    "            current_action_position = i\n",
    "    return current_action_position\n",
    "\n",
    "action_list = [0, 6, 9, 1]\n",
    "a = best_action(action_list)\n",
    "a\n",
    "            \n",
    "        \n",
    "        \n"
   ]
  },
  {
   "cell_type": "code",
   "execution_count": 6,
   "id": "8e9ce2bb-60c6-4970-aec6-9275cc6df355",
   "metadata": {},
   "outputs": [
    {
     "data": {
      "text/plain": [
       "4.75"
      ]
     },
     "execution_count": 6,
     "metadata": {},
     "output_type": "execute_result"
    }
   ],
   "source": [
    "# Total cost of the casino slot machine: k is number of machines, each machine has unique reward which is in the realNo_list for taking \n",
    "# a certain action a\n",
    "realNo_list_a = [1, 5, 9, 4]\n",
    "\n",
    "def cost(k_a, realNo_a):\n",
    "    Q_k_a = 0\n",
    "    for i in range(len(realNo_a)):\n",
    "        Q_k_a += realNo_a[i]/ k_a\n",
    "    return Q_k_a\n",
    "\n",
    "total = cost(4, realNo_list_a)\n",
    "total\n",
    "\n",
    "# That is, the expected reward at play k for action a is the arithmetic mean of all the previous rewards we’ve received for taking action a. \n",
    "# Thus, our previous actions and observations influence our future actions.\n",
    "    "
   ]
  },
  {
   "cell_type": "code",
   "execution_count": null,
   "id": "22900fc7-f690-448d-8481-63eab9fc94dc",
   "metadata": {},
   "outputs": [],
   "source": [
    "# Getting expected maximum rewards (maximum total) for a certain action\n",
    "\n",
    "# def maximum(action, history):\n",
    "#     maximum = max(rewards)"
   ]
  },
  {
   "cell_type": "code",
   "execution_count": 7,
   "id": "a5aab404-82f1-4c81-99bd-edf339debbe4",
   "metadata": {},
   "outputs": [
    {
     "data": {
      "text/plain": [
       "3"
      ]
     },
     "execution_count": 7,
     "metadata": {},
     "output_type": "execute_result"
    }
   ],
   "source": [
    "# Finding the best actions given the expected rewards\n",
    "\n",
    "rewardsList_action_a = [9, 10, 40, 5, 0]\n",
    "rewardsList_action_b = [9, 10, 40, 5, 0]\n",
    "rewardsList_action_c = [9, 10, 4, 5, 0]\n",
    "rewardsList_action_d = [9, 10, 49, 5, 80]\n",
    "\n",
    "\n",
    "def cost(k_a, rewards):\n",
    "    Q_k_a = 0\n",
    "    for i in range(len(rewards)):\n",
    "        Q_k_a += rewards[i]/ k_a\n",
    "    return Q_k_a\n",
    "\n",
    "total_a = cost(5, rewardsList_action_a)\n",
    "total_b = cost(5, rewardsList_action_b)\n",
    "total_c = cost(5, rewardsList_action_c)\n",
    "total_d = cost(5, rewardsList_action_d)\n",
    "\n",
    "total_list = [total_a, total_b, total_c, total_d]\n",
    "\n",
    "# That is, the expected reward at play k for action a is the arithmetic mean of all the previous rewards we’ve received for taking action a. \n",
    "# Thus, our previous actions and observations influence our future actions.\n",
    "\n",
    "\n",
    "\n",
    "def best_action_maximum_rewards(totals):\n",
    "    max = 0\n",
    "    current_position = 0 \n",
    "    \n",
    "    for i in range(len(totals)):\n",
    "        if totals[i] > max:\n",
    "            max = totals[i]\n",
    "            current_position = i\n",
    "    return current_position\n",
    "\n",
    "maximum_reward = best_action_maximum_rewards(total_list)\n",
    "maximum_reward\n",
    "\n",
    "\n",
    "\n",
    "\n",
    "            \n",
    "            \n",
    "            \n",
    "            \n",
    "        \n",
    "    \n",
    "    \n",
    "    "
   ]
  },
  {
   "cell_type": "code",
   "execution_count": 9,
   "id": "34760dc7-7aa2-49d3-80d8-b840b9622c9a",
   "metadata": {},
   "outputs": [],
   "source": [
    "# Epsilon-greedy approach\n",
    "\n",
    "import numpy as np\n",
    "from scipy import stats\n",
    "import random\n",
    "# import matplotlib.pyplot as plt\n",
    "\n",
    "epsilon = 0.2\n",
    "n = 10 #number of slot machines\n",
    "prob1 = np.random.rand(n) #prob i.e reward of each slot machine\n",
    "\n",
    "    \n",
    "\n",
    "        "
   ]
  },
  {
   "cell_type": "code",
   "execution_count": 10,
   "id": "39d420b3",
   "metadata": {},
   "outputs": [
    {
     "data": {
      "text/plain": [
       "np.float64(6.9605)"
      ]
     },
     "execution_count": 10,
     "metadata": {},
     "output_type": "execute_result"
    }
   ],
   "source": [
    "# It shows if value is < than defined prob, it is getting closer to the success, but not success yet, \n",
    "# so reward ++, else out of that area\n",
    "# Reward is possible trials/paths taken to reach certain defined probability\n",
    "def total_reward(prob, n1):\n",
    "    reward = 0\n",
    "    for i in range(n1):\n",
    "        prob_of_each_arm = random.random()\n",
    "        if prob_of_each_arm < prob:\n",
    "            reward +=1\n",
    "    return reward\n",
    "\n",
    "\n",
    "a = total_reward(0.7, 10)\n",
    "a\n",
    "        \n",
    "\n",
    "# We get to see for prob less than 0.7, we get average of 7 rewards\n",
    "np.mean([total_reward(0.7, 10) for _ in range(2000)])"
   ]
  },
  {
   "cell_type": "code",
   "execution_count": 12,
   "id": "8e5951c9-f863-4598-9d59-4ae72ecde20a",
   "metadata": {},
   "outputs": [],
   "source": [
    "# For new reward adding up to the Mean value\n",
    "# M = (k* M_old + new_value) / (k+1)"
   ]
  },
  {
   "cell_type": "code",
   "execution_count": 11,
   "id": "bc91a131-b545-45f6-8204-bf992e60f05a",
   "metadata": {},
   "outputs": [
    {
     "data": {
      "text/plain": [
       "array([[0., 0.],\n",
       "       [0., 0.],\n",
       "       [0., 0.],\n",
       "       [0., 0.],\n",
       "       [0., 0.],\n",
       "       [0., 0.],\n",
       "       [1., 9.],\n",
       "       [0., 0.],\n",
       "       [0., 0.],\n",
       "       [0., 0.]])"
      ]
     },
     "execution_count": 11,
     "metadata": {},
     "output_type": "execute_result"
    }
   ],
   "source": [
    "# Updating the old_record reward array with new_reward value\n",
    "\n",
    "# 1st column is number of times pulling each arm, and second column is the avg reward for running arm\n",
    "record = np.zeros((10, 2)) #10 rows and 2 columns\n",
    "# array ([ [0., 0.], [0, 0], [0, 0], [0, 0], [0, 0], [0, 0], [0, 0], [0, 0], [0, 0], [0, 0] ])\n",
    "\n",
    "\n",
    "\n",
    "def update_reward_values(action, new, old_record):\n",
    "    new_record = (old_record[action, 0] * old_record[action, 1] + new) / (old_record[action, 0] + 1) \n",
    "    old_record[action, 0] +=1\n",
    "    old_record[action, 1] = new_record\n",
    "    return old_record\n",
    "    \n",
    "        \n",
    "\n",
    "a = update_reward_values(6, 9, record)\n",
    "        \n",
    "a\n",
    "\n",
    "# Arm(action)           Times Pulled (record[action, 0])\t          Avg Reward (record[action, 1])\n",
    "# 0\t                                3\t                             0.57\n",
    "# 1\t                                1\t                             0.72\n",
    "# 2\t                                0\t                             0.00\n",
    "# 3\t                                2\t                             0.65\n",
    "# 4\t                                1\t                             0.89\n",
    "# 5                                 0                                0.0\n",
    "record\n"
   ]
  },
  {
   "cell_type": "code",
   "execution_count": 12,
   "id": "a0641040-0c96-4f66-b859-b7a792a34ff9",
   "metadata": {},
   "outputs": [
    {
     "data": {
      "text/plain": [
       "np.int64(6)"
      ]
     },
     "execution_count": 12,
     "metadata": {},
     "output_type": "execute_result"
    }
   ],
   "source": [
    "# Getting maximum reward value of all actions because : \n",
    "\n",
    "import numpy as np\n",
    "\n",
    "def get_max_arm(record):\n",
    "    max_record = np.argmax(record[:, 1], axis = 0)\n",
    "    return max_record\n",
    "\n",
    "a = get_max_arm(record)\n",
    "a"
   ]
  },
  {
   "cell_type": "code",
   "execution_count": 14,
   "id": "992b214f-6002-4c3d-b17a-945ee3f193fe",
   "metadata": {},
   "outputs": [
    {
     "name": "stdout",
     "output_type": "stream",
     "text": [
      "Collecting matplotlib\n",
      "  Downloading matplotlib-3.10.3-cp311-cp311-win_amd64.whl.metadata (11 kB)\n",
      "Collecting contourpy>=1.0.1 (from matplotlib)\n",
      "  Downloading contourpy-1.3.2-cp311-cp311-win_amd64.whl.metadata (5.5 kB)\n",
      "Collecting cycler>=0.10 (from matplotlib)\n",
      "  Using cached cycler-0.12.1-py3-none-any.whl.metadata (3.8 kB)\n",
      "Collecting fonttools>=4.22.0 (from matplotlib)\n",
      "  Downloading fonttools-4.58.0-cp311-cp311-win_amd64.whl.metadata (106 kB)\n",
      "     ---------------------------------------- 0.0/106.6 kB ? eta -:--:--\n",
      "     -------------------------------------- 106.6/106.6 kB 3.1 MB/s eta 0:00:00\n",
      "Collecting kiwisolver>=1.3.1 (from matplotlib)\n",
      "  Downloading kiwisolver-1.4.8-cp311-cp311-win_amd64.whl.metadata (6.3 kB)\n",
      "Requirement already satisfied: numpy>=1.23 in c:\\users\\priyo\\appdata\\local\\programs\\python\\python311\\lib\\site-packages (from matplotlib) (2.1.3)\n",
      "Requirement already satisfied: packaging>=20.0 in c:\\users\\priyo\\appdata\\local\\programs\\python\\python311\\lib\\site-packages (from matplotlib) (24.2)\n",
      "Requirement already satisfied: pillow>=8 in c:\\users\\priyo\\appdata\\local\\programs\\python\\python311\\lib\\site-packages (from matplotlib) (11.1.0)\n",
      "Collecting pyparsing>=2.3.1 (from matplotlib)\n",
      "  Downloading pyparsing-3.2.3-py3-none-any.whl.metadata (5.0 kB)\n",
      "Requirement already satisfied: python-dateutil>=2.7 in c:\\users\\priyo\\appdata\\local\\programs\\python\\python311\\lib\\site-packages (from matplotlib) (2.9.0.post0)\n",
      "Requirement already satisfied: six>=1.5 in c:\\users\\priyo\\appdata\\local\\programs\\python\\python311\\lib\\site-packages (from python-dateutil>=2.7->matplotlib) (1.17.0)\n",
      "Downloading matplotlib-3.10.3-cp311-cp311-win_amd64.whl (8.1 MB)\n",
      "   ---------------------------------------- 0.0/8.1 MB ? eta -:--:--\n",
      "   -- ------------------------------------- 0.6/8.1 MB 11.8 MB/s eta 0:00:01\n",
      "   ------ --------------------------------- 1.2/8.1 MB 11.2 MB/s eta 0:00:01\n",
      "   -------- ------------------------------- 1.8/8.1 MB 11.4 MB/s eta 0:00:01\n",
      "   ------------ --------------------------- 2.5/8.1 MB 13.3 MB/s eta 0:00:01\n",
      "   --------------- ------------------------ 3.2/8.1 MB 12.9 MB/s eta 0:00:01\n",
      "   ------------------- -------------------- 3.9/8.1 MB 13.2 MB/s eta 0:00:01\n",
      "   ----------------------- ---------------- 4.7/8.1 MB 13.6 MB/s eta 0:00:01\n",
      "   -------------------------- ------------- 5.3/8.1 MB 13.6 MB/s eta 0:00:01\n",
      "   ----------------------------- ---------- 6.0/8.1 MB 13.8 MB/s eta 0:00:01\n",
      "   -------------------------------- ------- 6.6/8.1 MB 13.6 MB/s eta 0:00:01\n",
      "   ----------------------------------- ---- 7.2/8.1 MB 14.0 MB/s eta 0:00:01\n",
      "   ---------------------------------------  7.9/8.1 MB 14.1 MB/s eta 0:00:01\n",
      "   ---------------------------------------  8.1/8.1 MB 13.9 MB/s eta 0:00:01\n",
      "   ---------------------------------------- 8.1/8.1 MB 12.9 MB/s eta 0:00:00\n",
      "Downloading contourpy-1.3.2-cp311-cp311-win_amd64.whl (222 kB)\n",
      "   ---------------------------------------- 0.0/222.0 kB ? eta -:--:--\n",
      "   --------------------------------------- 222.0/222.0 kB 13.2 MB/s eta 0:00:00\n",
      "Using cached cycler-0.12.1-py3-none-any.whl (8.3 kB)\n",
      "Downloading fonttools-4.58.0-cp311-cp311-win_amd64.whl (2.2 MB)\n",
      "   ---------------------------------------- 0.0/2.2 MB ? eta -:--:--\n",
      "   --------- ------------------------------ 0.5/2.2 MB 16.0 MB/s eta 0:00:01\n",
      "   --------------------- ------------------ 1.2/2.2 MB 14.9 MB/s eta 0:00:01\n",
      "   ---------------------------------- ----- 1.9/2.2 MB 15.3 MB/s eta 0:00:01\n",
      "   ---------------------------------------- 2.2/2.2 MB 12.9 MB/s eta 0:00:00\n",
      "Downloading kiwisolver-1.4.8-cp311-cp311-win_amd64.whl (71 kB)\n",
      "   ---------------------------------------- 0.0/72.0 kB ? eta -:--:--\n",
      "   ---------------------------------------- 72.0/72.0 kB 3.9 MB/s eta 0:00:00\n",
      "Downloading pyparsing-3.2.3-py3-none-any.whl (111 kB)\n",
      "   ---------------------------------------- 0.0/111.1 kB ? eta -:--:--\n",
      "   ---------------------------------------- 111.1/111.1 kB 6.7 MB/s eta 0:00:00\n",
      "Installing collected packages: pyparsing, kiwisolver, fonttools, cycler, contourpy, matplotlib\n",
      "Successfully installed contourpy-1.3.2 cycler-0.12.1 fonttools-4.58.0 kiwisolver-1.4.8 matplotlib-3.10.3 pyparsing-3.2.3\n"
     ]
    },
    {
     "name": "stderr",
     "output_type": "stream",
     "text": [
      "\n",
      "[notice] A new release of pip is available: 24.0 -> 25.1.1\n",
      "[notice] To update, run: python.exe -m pip install --upgrade pip\n"
     ]
    }
   ],
   "source": [
    "!pip install matplotlib"
   ]
  },
  {
   "cell_type": "code",
   "execution_count": 48,
   "id": "64cc5a0e-08fc-4028-84d0-ca499fdf8223",
   "metadata": {},
   "outputs": [
    {
     "data": {
      "text/plain": [
       "<matplotlib.collections.PathCollection at 0x2cbd7145c90>"
      ]
     },
     "execution_count": 48,
     "metadata": {},
     "output_type": "execute_result"
    },
    {
     "data": {
      "image/png": "[encoded data removed]",
      "text/plain": [
       "<Figure size 900x500 with 1 Axes>"
      ]
     },
     "metadata": {},
     "output_type": "display_data"
    }
   ],
   "source": [
    "# Solving the n-armed bandit: 10-arm slot machine\n",
    "# 1 Initializes the record array to all zeros\n",
    "# 2 Randomly initializes the probabilities of rewards for each arm\n",
    "# 3 Chooses the best action with 0.8 probability, or randomly otherwise\n",
    "# 4 Computes the reward for choosing the arm\n",
    "# 5 Updates the record array with the new count and reward observation for this arm\n",
    "# 6 Keeps track of the running average of rewards to assess overall performance\n",
    "\n",
    "\n",
    "import matplotlib.pyplot as plt\n",
    "\n",
    "n = 10\n",
    "record = np.zeros((n, 2))\n",
    "probs = np.random.rand(n)\n",
    "epsilon = 0.2\n",
    "rewards = [0]\n",
    "\n",
    "fig, ax = plt.subplots(1,1)\n",
    "ax.set_xlabel(\"Plays\")\n",
    "ax.set_ylabel(\"Avg Reward\")\n",
    "fig.set_size_inches(9,5)\n",
    "\n",
    "for i in range(500):\n",
    "    if random.random() > epsilon:\n",
    "        choice = get_max_arm(record)\n",
    "    else:\n",
    "        choice = np.random.randint(10)\n",
    "    new = total_reward(probs[choice], 10)\n",
    "    record = update_reward_values(choice, new, record)\n",
    "    mean_reward = ((i+1) * rewards[-1] + new) / (i+2)\n",
    "    rewards.append(mean_reward)\n",
    "\n",
    "\n",
    "ax.scatter(np.arange(len(rewards)),rewards)\n",
    "\n",
    "\n",
    "# i: current iteration (starts at 0)\n",
    "# rewards[-1]: the last recorded average reward\n",
    "# i+1: total number of previous trials\n",
    "# i+2: total number of trials including this one\n",
    "# For e.g. if i = 1, which is 2nd iteration: 0, 1, 2 total trials 3, here i+1 and i+2 are k value, number of plays\n",
    "# mean_reward = ((1+1) * 0.5 + 1) / (1+2)\n",
    "#              = (1.0 + 1) / 3\n",
    "#              = 2.0 / 3\n",
    "#              ≈ 0.667\n",
    "\n",
    "    \n",
    "    \n",
    "# This plot shows that the average reward for each slot machine play increases over time, indicating we are successfully learning how\n",
    "# to solve the n-armed bandit problem.\n",
    "    \n"
   ]
  },
  {
   "cell_type": "code",
   "execution_count": 27,
   "id": "4a17c607-8031-4e88-97e0-8dbf4d03adab",
   "metadata": {},
   "outputs": [],
   "source": [
    "# Softmax equation\n",
    "# Low Temperature (e.g., T < 1):\n",
    "# This makes the model more confident, concentrating probabilities on the most likely class while suppressing probabilities of other classes. \n",
    "# The probability distribution becomes more \"peaked\". \n",
    "# High Temperature (e.g., T > 1):\n",
    "# This makes the model less confident, spreading probabilities more evenly across classes. The probability distribution becomes more \"flat\". \n",
    "\n",
    "def softmax(av, tau=1.12):\n",
    "    softm = np.exp(av / tau) / np.sum( np.exp(av / tau) ) \n",
    "    return softm"
   ]
  },
  {
   "cell_type": "code",
   "execution_count": 36,
   "id": "d793bcce-6dcc-43e7-b720-1bf92683c25b",
   "metadata": {},
   "outputs": [
    {
     "data": {
      "text/plain": [
       "np.int64(6)"
      ]
     },
     "execution_count": 36,
     "metadata": {},
     "output_type": "execute_result"
    }
   ],
   "source": [
    "x = np.arange(10)\n",
    "\n",
    "# array([0, 1, 2, 3, 4, 5, 6, 7, 8, 9])\n",
    "av = np.zeros(10)\n",
    "p = softmax(av)\n",
    "# array([0.1, 0.1, 0.1, 0.1, 0.1, 0.1, 0.1, 0.1, 0.1, 0.1])\n",
    "np.random.choice(x,p=p)\n"
   ]
  },
  {
   "cell_type": "code",
   "execution_count": 47,
   "id": "910a7fb9-26f3-44d1-bdc1-305a2faf499d",
   "metadata": {},
   "outputs": [
    {
     "data": {
      "text/plain": [
       "<matplotlib.collections.PathCollection at 0x2cbd6e1fd10>"
      ]
     },
     "execution_count": 47,
     "metadata": {},
     "output_type": "execute_result"
    },
    {
     "data": {
      "image/png": "[encoded data removed]",
      "text/plain": [
       "<Figure size 900x500 with 1 Axes>"
      ]
     },
     "metadata": {},
     "output_type": "display_data"
    }
   ],
   "source": [
    "# n-arm bandit using softmax function\n",
    "# Chooses an arm randomly but weighted by the softmax probabilities\n",
    "\n",
    "n = 10\n",
    "prob = np.random.rand(n)\n",
    "record = np.zeros((n,2))\n",
    "reward = [0]\n",
    "\n",
    "fig,ax = plt.subplots(1,1)\n",
    "ax.set_xlabel(\"Plays\")\n",
    "ax.set_ylabel(\"Avg Reward\")\n",
    "fig.set_size_inches(9,5)\n",
    "\n",
    "for i in range(500):\n",
    "    p = softmax(record[:, 1])\n",
    "    choice = np.random.choice(np.arange(n), p=p)\n",
    "    new_reward = total_reward(prob[choice], n)\n",
    "    update = update_reward_values(choice, new_reward, record)\n",
    "    mean_reward = ((i+1) * reward[-1] + new_reward )/ (i+2)\n",
    "    reward.append(mean_reward)\n",
    "    \n",
    "ax.scatter(np.arange(len(reward)),reward)\n",
    "    \n",
    "    \n",
    "# With the softmax policy, the n-armed bandit algorithm tends to converge faster on the maximal mean reward.\n",
    "\n",
    "\n",
    "\n",
    "\n"
   ]
  },
  {
   "cell_type": "code",
   "execution_count": 15,
   "id": "ae647c2c-8a04-46fe-bfef-73c21a25d664",
   "metadata": {},
   "outputs": [
    {
     "data": {
      "text/plain": [
       "array([[1, 2, 3],\n",
       "       [4, 5, 6]])"
      ]
     },
     "execution_count": 15,
     "metadata": {},
     "output_type": "execute_result"
    }
   ],
   "source": [
    "# PyTorch practice\n",
    "# 2*3 matrix\n",
    "import numpy\n",
    "numpy.array([[1,2, 3], [4,5,6]])\n"
   ]
  },
  {
   "cell_type": "code",
   "execution_count": 3,
   "id": "e5a85bd6-d996-4ac1-8174-3b0ff1e6547c",
   "metadata": {},
   "outputs": [
    {
     "data": {
      "text/plain": [
       "tensor([[1., 2., 3.],\n",
       "        [4., 5., 6.]])"
      ]
     },
     "execution_count": 3,
     "metadata": {},
     "output_type": "execute_result"
    }
   ],
   "source": [
    "# The PyTorch code is basically the same as the numpy version, except in PyTorch we call multidimensional arrays tensors\n",
    "import torch\n",
    "\n",
    "torch.Tensor([[1,2,3], [4,5,6]])\n"
   ]
  },
  {
   "cell_type": "code",
   "execution_count": 7,
   "id": "cbacd266-ef58-4378-ac0b-fe391607743d",
   "metadata": {},
   "outputs": [
    {
     "data": {
      "text/plain": [
       "tensor([ -37.0109, -148.0436])"
      ]
     },
     "execution_count": 7,
     "metadata": {},
     "output_type": "execute_result"
    }
   ],
   "source": [
    "# Linear regression using PyTorch\n",
    "x = torch.Tensor([1, 4]) #input 1D tensor matrix\n",
    "m = torch.randn(2, requires_grad = True) # it is random number of 2 elements and also 1D, weights\n",
    "b = torch.randn(1, requires_grad = True) #it is random number of 1 element, bias\n",
    "y_known = 5\n",
    "\n",
    "y = m*x + b\n",
    "loss = (torch.sum(y_known - y)) ** 2\n",
    "loss.backward() # backpropagation calculating gradients of the weights and bias\n",
    "m.grad"
   ]
  },
  {
   "cell_type": "code",
   "execution_count": 8,
   "id": "e47ec39f-baca-4bd7-9d77-82b85ee47296",
   "metadata": {},
   "outputs": [],
   "source": [
    "# Instead of manually calculating the gradient, we can use PyTorch's nn module, feedforward neural network Sequential\n",
    "# And activation function ReLu and Adam optimizer, loss as Mean-squared loss\n",
    "\n",
    "#Initializing the model using built-in function Sequential and it is a 2-layer model\n",
    "model = torch.nn.Sequential(\n",
    "    torch.nn.Linear(12, 150), # First layer; input is 12 features, and output is 150\n",
    "    torch.nn.ReLU(),\n",
    "    torch.nn.Linear(150, 89), # 2nd layer; make sure first parameter of second layer is same as output of first layer\n",
    "    torch.nn.ReLU()\n",
    ")\n",
    "\n",
    "loss_function = torch.nn.MSELoss()\n",
    "optimizer = torch.optim.Adam(model.parameters(), lr=0.01)\n",
    "\n",
    "y_correct = torch.randn(32, 89)  # assuming batch_size is 32, 89 is output\n",
    "x = torch.randn(32, 12) #12 is input features\n",
    "\n",
    "\n",
    "# calling the model and doing calculation\n",
    "for step in range(100):\n",
    "    y_pred = model(x) # forward pass\n",
    "    loss = loss_function(y_pred, y_correct) # here both of their size should match as tensor vectors\n",
    "    optimizer.zero_grad() # clear out old gradients\n",
    "    loss.backward() # backpropagation  computes gradients of loss w.r.t. model parameters.\n",
    "    optimizer.step() # update the weights updates parameters using the computed gradients.\n",
    "    \n",
    "    \n",
    "# The x variable is the input data to the model. The y_correct variable is a tensor representing the labeled, correct output. \n",
    "# We make the prediction using the model, calculate the loss, and then compute the gradients using the backward() method on the last node in \n",
    "# the computational graph (which is almost always the loss function). Then we just run the step() method on the optimizer, and it will run a \n",
    "# single step of gradient descent. If we need to build more complex neural network architectures than the sequential model, we can write our \n",
    "# own Python class, inhereit from PyTorch’s module class"
   ]
  },
  {
   "cell_type": "code",
   "execution_count": 10,
   "id": "389a8407-e772-497d-91f7-d386c2763675",
   "metadata": {},
   "outputs": [],
   "source": [
    "# If we want to define our own Neural network architecture using Linear module and Relu activation function\n",
    "\n",
    "\n",
    "import torch\n",
    "import torch.nn.functional as F\n",
    "from torch.nn import Module, Linear\n",
    "\n",
    "\n",
    "class MyNet(Module):\n",
    "    def __init__(self): #constructor __init__ method\n",
    "        super(MyNet, self).__init__() \n",
    "        self.a = Linear(75, 150)\n",
    "        self.b = Linear(150, 89)\n",
    "        \n",
    "    def forward(self, x):\n",
    "        x = F.relu(self.a(x))\n",
    "        x = F.relu(self.b(x))\n",
    "        return x\n",
    "        \n",
    "model = MyNet()\n",
    "\n",
    "\n",
    "# Module is Base class for all neural network models in PyTorch.\n",
    "# Linear: Fully connected (dense) layer, performs the operation: output = x @ W^T + b.\n",
    "# super(...): Calls the constructor of the parent class Module, which is necessary to initialize internal structures.\n",
    "# self.a = Linear(75, 150): First linear layer takes 75 inputs and outputs 150 values.\n",
    "# self.b = Linear(150, 89): Second layer takes those 150 outputs and transforms them into 89 outputs.\n",
    "# self.a(x): Pass input through first linear layer.\n",
    "# F.relu(...): Applies ReLU (Rectified Linear Unit) activation: max(0, x)\n",
    "# self.b(x): Pass result through second linear layer.\n",
    "\n",
    "# For every element in your input x:\n",
    "# If the value is positive, it stays the same.\n",
    "# If the value is negative, it becomes zero.\n",
    "\n",
    "# Why use ReLU?\n",
    "# Keeps positive values that help learning.\n",
    "# Sets negative values to 0, introducing non-linearity (so the model can learn complex patterns).\n",
    "# Very fast to compute (no exponential or division).\n",
    "# Helps avoid vanishing gradient problems common in sigmoid/tanh activations.\n",
    "\n",
    "\n",
    "\n",
    "        \n",
    "    \n",
    "        \n",
    "\n",
    "\n",
    "        \n",
    "    "
   ]
  },
  {
   "cell_type": "code",
   "execution_count": 8,
   "id": "eae841a9-6fe0-439b-8f32-0a10abd74fe6",
   "metadata": {},
   "outputs": [],
   "source": [
    "# Contextual Bandit problem introducing State/environment of current actions of arms\n",
    "import numpy as np\n",
    "import random\n",
    "\n",
    "class ContextBandit:\n",
    "    def __init__(self, arms=10): #init_distribution creates the reward matrix, update_state() randomly picks a current state\n",
    "        self.arms = arms\n",
    "        self.init_distribution(arms)\n",
    "        self.update_state()\n",
    "        \n",
    "    def init_distribution(self, arms): # Creates a reward probability matrix of shape (arms x arms), Each row = state, Each column = arm, bandit_matrix[s][a] = probability of getting a reward when in state s and pulling arm a\n",
    "        self.bandit_matrix = np.random.rand(arms,arms)\n",
    "        \n",
    "    def reward(self, prob):\n",
    "        reward = 0\n",
    "        for i in range(self.arms):\n",
    "            if random.random() < prob:\n",
    "                reward += 1\n",
    "        return reward\n",
    "        \n",
    "    def get_state(self): # get_state(): returns the current state (context), update_state(): randomly selects a new state\n",
    "        return self.state\n",
    "\n",
    "    def update_state(self):\n",
    "        self.state = np.random.randint(0,self.arms)\n",
    "        \n",
    "    def get_reward(self,arm): # Fetches the reward probability from the matrix, Passes it to reward(prob) to generate actual reward\n",
    "        return self.reward(self.bandit_matrix[self.get_state()][arm])\n",
    "        \n",
    "    def choose_arm(self, arm): #choose_arm will simulate placing an advertisement, and it returns a reward (e.g., proportional to the number of ad clicks)            \n",
    "        reward = self.get_reward(arm)\n",
    "        self.update_state()\n",
    "        return reward\n",
    "\n",
    "# Number of states = number of arms to make it simple"
   ]
  },
  {
   "cell_type": "code",
   "execution_count": 25,
   "id": "8625f7f5-7eb1-44ef-aa3a-82e100cd65ec",
   "metadata": {},
   "outputs": [
    {
     "name": "stdout",
     "output_type": "stream",
     "text": [
      "7\n",
      "2\n"
     ]
    }
   ],
   "source": [
    "# Setting the env based on ContextBandit\n",
    "env = ContextBandit(arms=10)\n",
    "state = env.get_state()\n",
    "reward = env.choose_arm(1)\n",
    "print(state)\n",
    "print(reward)"
   ]
  },
  {
   "cell_type": "code",
   "execution_count": 2,
   "id": "2457c81c-982a-472c-8d8a-b09ae722cc23",
   "metadata": {},
   "outputs": [],
   "source": [
    "#Contextual Bandit of 10 arms/advertisements\n",
    "# Neural network model\n",
    "\n",
    "import torch\n",
    "import numpy as np\n",
    "\n",
    "arms = 10\n",
    "batch_size, D_in, H, D_out = 1, 10, 100, 10\n",
    "\n",
    "\n"
   ]
  },
  {
   "cell_type": "code",
   "execution_count": 6,
   "id": "ba6033ea-3731-49f8-aab2-5c69bcf651aa",
   "metadata": {},
   "outputs": [],
   "source": [
    "import torch\n",
    "\n",
    "\n",
    "model = torch.nn.Sequential(\n",
    "    torch.nn.Linear(D_in, H),\n",
    "    torch.nn.ReLU(),\n",
    "    torch.nn.Linear(H, D_out),\n",
    "    torch.nn.ReLU()\n",
    "    \n",
    "    \n",
    ")\n",
    "\n",
    "loss_fun = torch.nn.MSELoss()\n",
    "\n",
    "\n",
    "# Input: one-hot vector of current state (length = arms)\n",
    "# Output: estimated reward for each arm (length = arms)\n",
    "# It learns a policy: Given state → what is the expected reward per arm?"
   ]
  },
  {
   "cell_type": "code",
   "execution_count": 9,
   "id": "7830865f-9d97-46db-ac62-72e47be6f920",
   "metadata": {},
   "outputs": [],
   "source": [
    "env = ContextBandit(arms)"
   ]
  },
  {
   "cell_type": "code",
   "execution_count": 12,
   "id": "86b6e55c-be7a-43c0-8046-17662ca96816",
   "metadata": {},
   "outputs": [],
   "source": [
    "def one_hot(batch_size, pos, val =1):\n",
    "    one_hot_vector = np.zeros(N)\n",
    "    one_hot_vector[pos] = val\n",
    "    return one_hot_vector\n",
    "\n",
    "\n",
    "    "
   ]
  },
  {
   "cell_type": "code",
   "execution_count": 13,
   "id": "8f574c13-6b96-4d04-8410-733676697f4e",
   "metadata": {},
   "outputs": [],
   "source": [
    "#contextual bandit agent that:\n",
    "# Observes the current state (context)\n",
    "# Predicts rewards for each arm\n",
    "# Uses softmax to choose actions (adds exploration)\n",
    "# Trains with actual rewards to improve future predictions\n",
    "\n",
    "\n",
    "\n",
    "def train(env, epochs=5000, learning_rate=1e-2):\n",
    "    cur_state = torch.Tensor(one_hot(arms,env.get_state()))#Creates a one-hot encoded vector representing the current state. Example: if state is 2 and arms = 10 → [0, 0, 1, 0, ..., 0] of length 10\n",
    "    optimizer = torch.optim.Adam(model.parameters(), lr=learning_rate)\n",
    "    rewards = []\n",
    "    for i in range(epochs):\n",
    "        y_pred = model(cur_state) #Runs forward pass, Output is vector of predicted rewards for each arm                                       \n",
    "        av_softmax = softmax(y_pred.data.numpy(), tau=2.0)   #Higher tau (temperature) → flatter distribution (more exploration)        \n",
    "        av_softmax /= av_softmax.sum()           #Just ensures numerical stability: total probability = 1                       \n",
    "        choice = np.random.choice(arms, p=av_softmax)      #Chooses an arm probabilistically, favoring higher predicted rewards              \n",
    "        cur_reward = env.choose_arm(choice)                             \n",
    "        one_hot_reward = y_pred.data.numpy().copy() #Clone model’s predictions: Use .copy() to make a safe, isolated version of predictions. Modify it, convert to tensor, and use it as label for loss computation. Clone y_pred to safely create a modified target for the MSE loss without affecting the model's actual predictions or computation graph.       \n",
    "        one_hot_reward[choice] = cur_reward                             \n",
    "        reward = torch.Tensor(one_hot_reward) #Converts updated reward vector back to tensor for loss calculation\n",
    "        rewards.append(cur_reward)\n",
    "        loss = loss_fn(y_pred, reward)\n",
    "        optimizer.zero_grad()\n",
    "        loss.backward() #Backpropagate to update model weights\n",
    "        optimizer.step()\n",
    "        cur_state = torch.Tensor(one_hot(arms,env.get_state()))        #Update current state after each training step  \n",
    "    return np.array(rewards)"
   ]
  }
 ],
 "metadata": {
  "kernelspec": {
   "display_name": "mnemonic-env",
   "language": "python",
   "name": "mnemonic-env"
  },
  "language_info": {
   "codemirror_mode": {
    "name": "ipython",
    "version": 3
   },
   "file_extension": ".py",
   "mimetype": "text/x-python",
   "name": "python",
   "nbconvert_exporter": "python",
   "pygments_lexer": "ipython3",
   "version": "3.11.9"
  }
 },
 "nbformat": 4,
 "nbformat_minor": 5
}
